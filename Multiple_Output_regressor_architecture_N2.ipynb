{
  "nbformat": 4,
  "nbformat_minor": 0,
  "metadata": {
    "colab": {
      "name": "Multiple_Output_regressor_architecture_N2.ipynb",
      "provenance": []
    },
    "kernelspec": {
      "name": "python3",
      "display_name": "Python 3"
    },
    "language_info": {
      "name": "python"
    },
    "accelerator": "TPU",
    "gpuClass": "standard"
  },
  "cells": [
    {
      "cell_type": "code",
      "execution_count": 1,
      "metadata": {
        "id": "7gZOxdaPSFmp"
      },
      "outputs": [],
      "source": [
        "from keras.models import Model\n",
        "from keras.layers import BatchNormalization\n",
        "from keras.layers.convolutional import Conv2D\n",
        "from keras.layers.convolutional import MaxPooling2D\n",
        "from keras.layers.core import Activation\n",
        "from keras.layers.core import Dropout\n",
        "from keras.layers.core import Lambda\n",
        "from keras.layers.core import Dense\n",
        "from keras.layers import Flatten\n",
        "from keras.layers import Input\n",
        "import tensorflow as tf\n",
        "import keras\n",
        "import tensorflow\n",
        "from keras import layers\n",
        "import numpy as np"
      ]
    },
    {
      "cell_type": "code",
      "source": [
        "# 10 bands, 12 loudness levels, 126 signal length, 1000 cycles"
      ],
      "metadata": {
        "id": "r5UkusDFSJ8d"
      },
      "execution_count": 2,
      "outputs": []
    },
    {
      "cell_type": "code",
      "source": [
        "\"\"\"\n",
        "input shape  = (12,10,126)\n",
        "output shape = (12,1)\n",
        "\"\"\""
      ],
      "metadata": {
        "colab": {
          "base_uri": "https://localhost:8080/",
          "height": 36
        },
        "id": "JvI4IutzSNJE",
        "outputId": "da55aa43-e5ae-4511-a81c-961d95b7a79e"
      },
      "execution_count": 3,
      "outputs": [
        {
          "output_type": "execute_result",
          "data": {
            "text/plain": [
              "'\\ninput shape  = (12,10,126)\\noutput shape = (12,1)\\n'"
            ],
            "application/vnd.google.colaboratory.intrinsic+json": {
              "type": "string"
            }
          },
          "metadata": {},
          "execution_count": 3
        }
      ]
    },
    {
      "cell_type": "code",
      "source": [
        "no_loudness_levels = 12"
      ],
      "metadata": {
        "id": "5qmJFDUhSYb2"
      },
      "execution_count": 4,
      "outputs": []
    },
    {
      "cell_type": "code",
      "source": [
        "inputs = Input(shape = (no_loudness_levels,10,126))\n",
        "x = Conv2D(32, (3, 3), padding=\"same\")(inputs)\n",
        "x = Activation(\"relu\")(x)\n",
        "x = BatchNormalization(axis=-1)(x)\n",
        "x = MaxPooling2D(pool_size=(3,3))(x)\n",
        "x = Dropout(0.25)(x)\n",
        "x = Conv2D(32, (3, 3), padding=\"same\")(x)\n",
        "x = Activation(\"relu\")(x)\n",
        "x = BatchNormalization(axis=-1)(x)\n",
        "x = MaxPooling2D(pool_size=(2, 2),padding = 'same')(x)\n",
        "x = Dropout(0.25)(x)\n",
        "x = Conv2D(32, (3, 3), padding=\"same\")(x)\n",
        "x = Activation(\"relu\")(x)\n",
        "x = BatchNormalization(axis=-1)(x)\n",
        "x = MaxPooling2D(pool_size=(2, 2))(x)\n",
        "x = Dropout(0.25)(x)\n",
        "x = Flatten()(x)\n",
        "x = Dense(128)(x)\n",
        "x = Activation(\"relu\")(x)\n",
        "x = BatchNormalization()(x)\n",
        "x = Dropout(0.5)(x)\n",
        "x = Dense(no_loudness_levels)(x)\n",
        "x = Activation(\"linear\", name=\"final-output\")(x)\n"
      ],
      "metadata": {
        "id": "wD6NLBMhSUGZ"
      },
      "execution_count": 5,
      "outputs": []
    },
    {
      "cell_type": "code",
      "source": [
        "model = keras.Model(inputs = inputs, outputs = x,name = \"CNN_n2\")"
      ],
      "metadata": {
        "id": "5WYcGZBESdxa"
      },
      "execution_count": 6,
      "outputs": []
    },
    {
      "cell_type": "code",
      "source": [
        "model.summary()"
      ],
      "metadata": {
        "colab": {
          "base_uri": "https://localhost:8080/"
        },
        "id": "DtyJGLGlShFr",
        "outputId": "b21c46d2-4898-4916-8c87-fc86586602b1"
      },
      "execution_count": 7,
      "outputs": [
        {
          "output_type": "stream",
          "name": "stdout",
          "text": [
            "Model: \"CNN_n2\"\n",
            "_________________________________________________________________\n",
            " Layer (type)                Output Shape              Param #   \n",
            "=================================================================\n",
            " input_1 (InputLayer)        [(None, 12, 10, 126)]     0         \n",
            "                                                                 \n",
            " conv2d (Conv2D)             (None, 12, 10, 32)        36320     \n",
            "                                                                 \n",
            " activation (Activation)     (None, 12, 10, 32)        0         \n",
            "                                                                 \n",
            " batch_normalization (BatchN  (None, 12, 10, 32)       128       \n",
            " ormalization)                                                   \n",
            "                                                                 \n",
            " max_pooling2d (MaxPooling2D  (None, 4, 3, 32)         0         \n",
            " )                                                               \n",
            "                                                                 \n",
            " dropout (Dropout)           (None, 4, 3, 32)          0         \n",
            "                                                                 \n",
            " conv2d_1 (Conv2D)           (None, 4, 3, 32)          9248      \n",
            "                                                                 \n",
            " activation_1 (Activation)   (None, 4, 3, 32)          0         \n",
            "                                                                 \n",
            " batch_normalization_1 (Batc  (None, 4, 3, 32)         128       \n",
            " hNormalization)                                                 \n",
            "                                                                 \n",
            " max_pooling2d_1 (MaxPooling  (None, 2, 2, 32)         0         \n",
            " 2D)                                                             \n",
            "                                                                 \n",
            " dropout_1 (Dropout)         (None, 2, 2, 32)          0         \n",
            "                                                                 \n",
            " conv2d_2 (Conv2D)           (None, 2, 2, 32)          9248      \n",
            "                                                                 \n",
            " activation_2 (Activation)   (None, 2, 2, 32)          0         \n",
            "                                                                 \n",
            " batch_normalization_2 (Batc  (None, 2, 2, 32)         128       \n",
            " hNormalization)                                                 \n",
            "                                                                 \n",
            " max_pooling2d_2 (MaxPooling  (None, 1, 1, 32)         0         \n",
            " 2D)                                                             \n",
            "                                                                 \n",
            " dropout_2 (Dropout)         (None, 1, 1, 32)          0         \n",
            "                                                                 \n",
            " flatten (Flatten)           (None, 32)                0         \n",
            "                                                                 \n",
            " dense (Dense)               (None, 128)               4224      \n",
            "                                                                 \n",
            " activation_3 (Activation)   (None, 128)               0         \n",
            "                                                                 \n",
            " batch_normalization_3 (Batc  (None, 128)              512       \n",
            " hNormalization)                                                 \n",
            "                                                                 \n",
            " dropout_3 (Dropout)         (None, 128)               0         \n",
            "                                                                 \n",
            " dense_1 (Dense)             (None, 12)                1548      \n",
            "                                                                 \n",
            " final-output (Activation)   (None, 12)                0         \n",
            "                                                                 \n",
            "=================================================================\n",
            "Total params: 61,484\n",
            "Trainable params: 61,036\n",
            "Non-trainable params: 448\n",
            "_________________________________________________________________\n"
          ]
        }
      ]
    },
    {
      "cell_type": "code",
      "source": [
        "from tensorflow.keras.utils import plot_model\n",
        "plot_model(\n",
        "    model,\n",
        "    show_shapes=False,\n",
        "    show_dtype=False,\n",
        "    show_layer_names=True,\n",
        "    rankdir=\"TB\",\n",
        "    expand_nested=True,\n",
        "    dpi=70,\n",
        "    layer_range=None,\n",
        "    show_layer_activations=False,\n",
        ")"
      ],
      "metadata": {
        "colab": {
          "base_uri": "https://localhost:8080/",
          "height": 1000
        },
        "id": "Pn_6RtkZSihZ",
        "outputId": "24d75594-c8b0-4e80-b049-938793850371"
      },
      "execution_count": 8,
      "outputs": [
        {
          "output_type": "execute_result",
          "data": {
            "image/png": "[encoded data removed]",
            "text/plain": [
              "<IPython.core.display.Image object>"
            ]
          },
          "metadata": {},
          "execution_count": 8
        }
      ]
    },
    {
      "cell_type": "code",
      "source": [
        "from google.colab import drive\n",
        "drive.mount('/content/drive')"
      ],
      "metadata": {
        "colab": {
          "base_uri": "https://localhost:8080/"
        },
        "id": "dxqR9m6iSpNL",
        "outputId": "7b23d258-c4ab-49da-b13b-98badf7aaddb"
      },
      "execution_count": 10,
      "outputs": [
        {
          "output_type": "stream",
          "name": "stdout",
          "text": [
            "Mounted at /content/drive\n"
          ]
        }
      ]
    },
    {
      "cell_type": "code",
      "source": [
        "pwd"
      ],
      "metadata": {
        "colab": {
          "base_uri": "https://localhost:8080/",
          "height": 36
        },
        "id": "rBPF60oZZchq",
        "outputId": "26bcbba3-9ea3-4363-f874-757b9dba01a6"
      },
      "execution_count": 10,
      "outputs": [
        {
          "output_type": "execute_result",
          "data": {
            "text/plain": [
              "'/content'"
            ],
            "application/vnd.google.colaboratory.intrinsic+json": {
              "type": "string"
            }
          },
          "metadata": {},
          "execution_count": 10
        }
      ]
    },
    {
      "cell_type": "code",
      "source": [
        "cd drive/MyDrive"
      ],
      "metadata": {
        "colab": {
          "base_uri": "https://localhost:8080/"
        },
        "id": "gQjISwobSkg5",
        "outputId": "5bda02b3-e221-462d-a5ea-87237bc1af29"
      },
      "execution_count": 11,
      "outputs": [
        {
          "output_type": "stream",
          "name": "stdout",
          "text": [
            "/content/drive/MyDrive\n"
          ]
        }
      ]
    },
    {
      "cell_type": "code",
      "source": [
        "x = np.load('ewt_x2_cnn_1.npy')\n",
        "y = np.load('ewt_y2_cnn_1.npy')"
      ],
      "metadata": {
        "id": "jr6RbgVzSmUR"
      },
      "execution_count": 12,
      "outputs": []
    },
    {
      "cell_type": "code",
      "source": [
        "import numpy as np\n",
        "import tensorflow as tf\n",
        "import tensorflow\n",
        "from tensorflow import keras\n",
        "from keras import layers\n",
        "from tensorflow.keras.utils import plot_model\n",
        "import pandas as pd\n",
        "import matplotlib.pyplot as plt\n",
        "from keras import regularizers, optimizers\n",
        "from keras.layers import Dense, Dropout, Input\n",
        "from keras.models import Sequential, load_model\n",
        "from keras.callbacks import ModelCheckpoint\n",
        "from keras.losses import MeanSquaredError\n",
        "from keras.metrics import RootMeanSquaredError,MeanSquaredError,MeanAbsoluteError\n",
        "from sklearn.model_selection import train_test_split\n",
        "from keras.callbacks import EarlyStopping\n",
        "import os"
      ],
      "metadata": {
        "id": "BwptMYCfS4O_"
      },
      "execution_count": 13,
      "outputs": []
    },
    {
      "cell_type": "code",
      "source": [
        "x.shape"
      ],
      "metadata": {
        "colab": {
          "base_uri": "https://localhost:8080/"
        },
        "id": "F_6yMY16S6vz",
        "outputId": "09dffc62-8006-4600-b201-330f257e913b"
      },
      "execution_count": 14,
      "outputs": [
        {
          "output_type": "execute_result",
          "data": {
            "text/plain": [
              "(1000, 12, 10, 126)"
            ]
          },
          "metadata": {},
          "execution_count": 14
        }
      ]
    },
    {
      "cell_type": "code",
      "source": [
        "y.shape"
      ],
      "metadata": {
        "colab": {
          "base_uri": "https://localhost:8080/"
        },
        "id": "xFgd6nZeS7JE",
        "outputId": "39167bac-a59b-4399-f390-6d12956c0dfe"
      },
      "execution_count": 15,
      "outputs": [
        {
          "output_type": "execute_result",
          "data": {
            "text/plain": [
              "(1000, 12)"
            ]
          },
          "metadata": {},
          "execution_count": 15
        }
      ]
    },
    {
      "cell_type": "code",
      "source": [
        "x_train,x_test,y_train,y_test = train_test_split(x,y,train_size = 0.85)"
      ],
      "metadata": {
        "id": "ZC292DqGS7iA"
      },
      "execution_count": 16,
      "outputs": []
    },
    {
      "cell_type": "code",
      "source": [
        "optimizer = keras.optimizers.Adam(learning_rate = 1e-4)\n",
        "model.compile(loss='mean_squared_error', optimizer = optimizer,metrics = ['MeanAbsoluteError','MeanSquaredError']) # Try SGD, adam, adagrad and compare!!!\n",
        "file = 'best_model_N2_r1.h5'\n",
        "es = EarlyStopping(monitor='val_loss', mode='min', verbose=5, patience=10)\n",
        "checkpoint = ModelCheckpoint(filepath=file, \n",
        "                             monitor='val_loss',\n",
        "                             verbose=1, \n",
        "                             save_best_only=True,\n",
        "                             mode='min')\n",
        "callbacks = [checkpoint,es]\n"
      ],
      "metadata": {
        "id": "4AjyMKTAS84E"
      },
      "execution_count": 17,
      "outputs": []
    },
    {
      "cell_type": "code",
      "source": [
        "history = model.fit(x_train,y_train, epochs=700, batch_size=16, verbose=2,validation_data = (x_test,y_test), callbacks = callbacks)"
      ],
      "metadata": {
        "colab": {
          "base_uri": "https://localhost:8080/"
        },
        "id": "-4sB1ZvqS-Fh",
        "outputId": "68a7f241-43fc-4f99-ee0d-2bc2c188f4a6"
      },
      "execution_count": 18,
      "outputs": [
        {
          "output_type": "stream",
          "name": "stdout",
          "text": [
            "Epoch 1/700\n",
            "\n",
            "Epoch 1: val_loss improved from inf to 0.82960, saving model to best_model_N2_r1.h5\n",
            "54/54 - 4s - loss: 3.7009 - mean_absolute_error: 1.5144 - mean_squared_error: 3.7009 - val_loss: 0.8296 - val_mean_absolute_error: 0.7505 - val_mean_squared_error: 0.8296 - 4s/epoch - 74ms/step\n",
            "Epoch 2/700\n",
            "\n",
            "Epoch 2: val_loss improved from 0.82960 to 0.61016, saving model to best_model_N2_r1.h5\n",
            "54/54 - 1s - loss: 3.5488 - mean_absolute_error: 1.4878 - mean_squared_error: 3.5488 - val_loss: 0.6102 - val_mean_absolute_error: 0.6504 - val_mean_squared_error: 0.6102 - 1s/epoch - 21ms/step\n",
            "Epoch 3/700\n",
            "\n",
            "Epoch 3: val_loss improved from 0.61016 to 0.56851, saving model to best_model_N2_r1.h5\n",
            "54/54 - 1s - loss: 3.3198 - mean_absolute_error: 1.4351 - mean_squared_error: 3.3198 - val_loss: 0.5685 - val_mean_absolute_error: 0.6370 - val_mean_squared_error: 0.5685 - 1s/epoch - 21ms/step\n",
            "Epoch 4/700\n",
            "\n",
            "Epoch 4: val_loss improved from 0.56851 to 0.54650, saving model to best_model_N2_r1.h5\n",
            "54/54 - 1s - loss: 3.0389 - mean_absolute_error: 1.3753 - mean_squared_error: 3.0389 - val_loss: 0.5465 - val_mean_absolute_error: 0.6272 - val_mean_squared_error: 0.5465 - 1s/epoch - 23ms/step\n",
            "Epoch 5/700\n",
            "\n",
            "Epoch 5: val_loss did not improve from 0.54650\n",
            "54/54 - 1s - loss: 2.9892 - mean_absolute_error: 1.3678 - mean_squared_error: 2.9892 - val_loss: 0.5500 - val_mean_absolute_error: 0.6310 - val_mean_squared_error: 0.5500 - 1s/epoch - 23ms/step\n",
            "Epoch 6/700\n",
            "\n",
            "Epoch 6: val_loss improved from 0.54650 to 0.54175, saving model to best_model_N2_r1.h5\n",
            "54/54 - 1s - loss: 2.8436 - mean_absolute_error: 1.3306 - mean_squared_error: 2.8436 - val_loss: 0.5418 - val_mean_absolute_error: 0.6232 - val_mean_squared_error: 0.5418 - 1s/epoch - 23ms/step\n",
            "Epoch 7/700\n",
            "\n",
            "Epoch 7: val_loss did not improve from 0.54175\n",
            "54/54 - 1s - loss: 2.6828 - mean_absolute_error: 1.2853 - mean_squared_error: 2.6828 - val_loss: 0.5532 - val_mean_absolute_error: 0.6269 - val_mean_squared_error: 0.5532 - 1s/epoch - 20ms/step\n",
            "Epoch 8/700\n",
            "\n",
            "Epoch 8: val_loss did not improve from 0.54175\n",
            "54/54 - 1s - loss: 2.5458 - mean_absolute_error: 1.2646 - mean_squared_error: 2.5458 - val_loss: 0.5533 - val_mean_absolute_error: 0.6227 - val_mean_squared_error: 0.5533 - 1s/epoch - 19ms/step\n",
            "Epoch 9/700\n",
            "\n",
            "Epoch 9: val_loss improved from 0.54175 to 0.53558, saving model to best_model_N2_r1.h5\n",
            "54/54 - 1s - loss: 2.4202 - mean_absolute_error: 1.2384 - mean_squared_error: 2.4202 - val_loss: 0.5356 - val_mean_absolute_error: 0.6082 - val_mean_squared_error: 0.5356 - 1s/epoch - 21ms/step\n",
            "Epoch 10/700\n",
            "\n",
            "Epoch 10: val_loss improved from 0.53558 to 0.52089, saving model to best_model_N2_r1.h5\n",
            "54/54 - 1s - loss: 2.3436 - mean_absolute_error: 1.2058 - mean_squared_error: 2.3436 - val_loss: 0.5209 - val_mean_absolute_error: 0.5955 - val_mean_squared_error: 0.5209 - 1s/epoch - 25ms/step\n",
            "Epoch 11/700\n",
            "\n",
            "Epoch 11: val_loss did not improve from 0.52089\n",
            "54/54 - 1s - loss: 2.2737 - mean_absolute_error: 1.1894 - mean_squared_error: 2.2737 - val_loss: 0.5237 - val_mean_absolute_error: 0.5942 - val_mean_squared_error: 0.5237 - 1s/epoch - 19ms/step\n",
            "Epoch 12/700\n",
            "\n",
            "Epoch 12: val_loss improved from 0.52089 to 0.49666, saving model to best_model_N2_r1.h5\n",
            "54/54 - 1s - loss: 2.0334 - mean_absolute_error: 1.1300 - mean_squared_error: 2.0334 - val_loss: 0.4967 - val_mean_absolute_error: 0.5758 - val_mean_squared_error: 0.4967 - 1s/epoch - 21ms/step\n",
            "Epoch 13/700\n",
            "\n",
            "Epoch 13: val_loss improved from 0.49666 to 0.44975, saving model to best_model_N2_r1.h5\n",
            "54/54 - 1s - loss: 2.0704 - mean_absolute_error: 1.1324 - mean_squared_error: 2.0704 - val_loss: 0.4497 - val_mean_absolute_error: 0.5530 - val_mean_squared_error: 0.4497 - 1s/epoch - 22ms/step\n",
            "Epoch 14/700\n",
            "\n",
            "Epoch 14: val_loss improved from 0.44975 to 0.40524, saving model to best_model_N2_r1.h5\n",
            "54/54 - 1s - loss: 1.9695 - mean_absolute_error: 1.1094 - mean_squared_error: 1.9695 - val_loss: 0.4052 - val_mean_absolute_error: 0.5301 - val_mean_squared_error: 0.4052 - 1s/epoch - 24ms/step\n",
            "Epoch 15/700\n",
            "\n",
            "Epoch 15: val_loss improved from 0.40524 to 0.38488, saving model to best_model_N2_r1.h5\n",
            "54/54 - 1s - loss: 1.8913 - mean_absolute_error: 1.0764 - mean_squared_error: 1.8913 - val_loss: 0.3849 - val_mean_absolute_error: 0.5171 - val_mean_squared_error: 0.3849 - 1s/epoch - 23ms/step\n",
            "Epoch 16/700\n",
            "\n",
            "Epoch 16: val_loss improved from 0.38488 to 0.37182, saving model to best_model_N2_r1.h5\n",
            "54/54 - 1s - loss: 1.7543 - mean_absolute_error: 1.0465 - mean_squared_error: 1.7543 - val_loss: 0.3718 - val_mean_absolute_error: 0.5074 - val_mean_squared_error: 0.3718 - 1s/epoch - 22ms/step\n",
            "Epoch 17/700\n",
            "\n",
            "Epoch 17: val_loss improved from 0.37182 to 0.33169, saving model to best_model_N2_r1.h5\n",
            "54/54 - 1s - loss: 1.6788 - mean_absolute_error: 1.0177 - mean_squared_error: 1.6788 - val_loss: 0.3317 - val_mean_absolute_error: 0.4869 - val_mean_squared_error: 0.3317 - 1s/epoch - 21ms/step\n",
            "Epoch 18/700\n",
            "\n",
            "Epoch 18: val_loss improved from 0.33169 to 0.30348, saving model to best_model_N2_r1.h5\n",
            "54/54 - 1s - loss: 1.6156 - mean_absolute_error: 0.9981 - mean_squared_error: 1.6156 - val_loss: 0.3035 - val_mean_absolute_error: 0.4665 - val_mean_squared_error: 0.3035 - 1s/epoch - 21ms/step\n",
            "Epoch 19/700\n",
            "\n",
            "Epoch 19: val_loss improved from 0.30348 to 0.28268, saving model to best_model_N2_r1.h5\n",
            "54/54 - 1s - loss: 1.6226 - mean_absolute_error: 1.0008 - mean_squared_error: 1.6226 - val_loss: 0.2827 - val_mean_absolute_error: 0.4537 - val_mean_squared_error: 0.2827 - 1s/epoch - 24ms/step\n",
            "Epoch 20/700\n",
            "\n",
            "Epoch 20: val_loss improved from 0.28268 to 0.26467, saving model to best_model_N2_r1.h5\n",
            "54/54 - 1s - loss: 1.4882 - mean_absolute_error: 0.9604 - mean_squared_error: 1.4882 - val_loss: 0.2647 - val_mean_absolute_error: 0.4383 - val_mean_squared_error: 0.2647 - 1s/epoch - 23ms/step\n",
            "Epoch 21/700\n",
            "\n",
            "Epoch 21: val_loss improved from 0.26467 to 0.25241, saving model to best_model_N2_r1.h5\n",
            "54/54 - 1s - loss: 1.4385 - mean_absolute_error: 0.9456 - mean_squared_error: 1.4385 - val_loss: 0.2524 - val_mean_absolute_error: 0.4286 - val_mean_squared_error: 0.2524 - 1s/epoch - 21ms/step\n",
            "Epoch 22/700\n",
            "\n",
            "Epoch 22: val_loss improved from 0.25241 to 0.22873, saving model to best_model_N2_r1.h5\n",
            "54/54 - 1s - loss: 1.4133 - mean_absolute_error: 0.9338 - mean_squared_error: 1.4133 - val_loss: 0.2287 - val_mean_absolute_error: 0.4078 - val_mean_squared_error: 0.2287 - 1s/epoch - 21ms/step\n",
            "Epoch 23/700\n",
            "\n",
            "Epoch 23: val_loss improved from 0.22873 to 0.20457, saving model to best_model_N2_r1.h5\n",
            "54/54 - 1s - loss: 1.3398 - mean_absolute_error: 0.9128 - mean_squared_error: 1.3398 - val_loss: 0.2046 - val_mean_absolute_error: 0.3854 - val_mean_squared_error: 0.2046 - 1s/epoch - 21ms/step\n",
            "Epoch 24/700\n",
            "\n",
            "Epoch 24: val_loss improved from 0.20457 to 0.19314, saving model to best_model_N2_r1.h5\n",
            "54/54 - 1s - loss: 1.2691 - mean_absolute_error: 0.8872 - mean_squared_error: 1.2691 - val_loss: 0.1931 - val_mean_absolute_error: 0.3725 - val_mean_squared_error: 0.1931 - 1s/epoch - 23ms/step\n",
            "Epoch 25/700\n",
            "\n",
            "Epoch 25: val_loss improved from 0.19314 to 0.17995, saving model to best_model_N2_r1.h5\n",
            "54/54 - 1s - loss: 1.2239 - mean_absolute_error: 0.8736 - mean_squared_error: 1.2239 - val_loss: 0.1800 - val_mean_absolute_error: 0.3590 - val_mean_squared_error: 0.1800 - 1s/epoch - 21ms/step\n",
            "Epoch 26/700\n",
            "\n",
            "Epoch 26: val_loss improved from 0.17995 to 0.16732, saving model to best_model_N2_r1.h5\n",
            "54/54 - 1s - loss: 1.1887 - mean_absolute_error: 0.8534 - mean_squared_error: 1.1887 - val_loss: 0.1673 - val_mean_absolute_error: 0.3474 - val_mean_squared_error: 0.1673 - 1s/epoch - 24ms/step\n",
            "Epoch 27/700\n",
            "\n",
            "Epoch 27: val_loss improved from 0.16732 to 0.15699, saving model to best_model_N2_r1.h5\n",
            "54/54 - 1s - loss: 1.1279 - mean_absolute_error: 0.8351 - mean_squared_error: 1.1279 - val_loss: 0.1570 - val_mean_absolute_error: 0.3361 - val_mean_squared_error: 0.1570 - 1s/epoch - 21ms/step\n",
            "Epoch 28/700\n",
            "\n",
            "Epoch 28: val_loss improved from 0.15699 to 0.14564, saving model to best_model_N2_r1.h5\n",
            "54/54 - 1s - loss: 1.0459 - mean_absolute_error: 0.8044 - mean_squared_error: 1.0459 - val_loss: 0.1456 - val_mean_absolute_error: 0.3219 - val_mean_squared_error: 0.1456 - 1s/epoch - 22ms/step\n",
            "Epoch 29/700\n",
            "\n",
            "Epoch 29: val_loss improved from 0.14564 to 0.13814, saving model to best_model_N2_r1.h5\n",
            "54/54 - 1s - loss: 1.0580 - mean_absolute_error: 0.8074 - mean_squared_error: 1.0580 - val_loss: 0.1381 - val_mean_absolute_error: 0.3120 - val_mean_squared_error: 0.1381 - 1s/epoch - 24ms/step\n",
            "Epoch 30/700\n",
            "\n",
            "Epoch 30: val_loss improved from 0.13814 to 0.13208, saving model to best_model_N2_r1.h5\n",
            "54/54 - 1s - loss: 1.0398 - mean_absolute_error: 0.7978 - mean_squared_error: 1.0398 - val_loss: 0.1321 - val_mean_absolute_error: 0.3049 - val_mean_squared_error: 0.1321 - 1s/epoch - 21ms/step\n",
            "Epoch 31/700\n",
            "\n",
            "Epoch 31: val_loss improved from 0.13208 to 0.12118, saving model to best_model_N2_r1.h5\n",
            "54/54 - 1s - loss: 0.9690 - mean_absolute_error: 0.7706 - mean_squared_error: 0.9690 - val_loss: 0.1212 - val_mean_absolute_error: 0.2934 - val_mean_squared_error: 0.1212 - 1s/epoch - 23ms/step\n",
            "Epoch 32/700\n",
            "\n",
            "Epoch 32: val_loss improved from 0.12118 to 0.11153, saving model to best_model_N2_r1.h5\n",
            "54/54 - 1s - loss: 0.9119 - mean_absolute_error: 0.7501 - mean_squared_error: 0.9119 - val_loss: 0.1115 - val_mean_absolute_error: 0.2826 - val_mean_squared_error: 0.1115 - 1s/epoch - 23ms/step\n",
            "Epoch 33/700\n",
            "\n",
            "Epoch 33: val_loss improved from 0.11153 to 0.09942, saving model to best_model_N2_r1.h5\n",
            "54/54 - 1s - loss: 0.9054 - mean_absolute_error: 0.7475 - mean_squared_error: 0.9054 - val_loss: 0.0994 - val_mean_absolute_error: 0.2665 - val_mean_squared_error: 0.0994 - 1s/epoch - 25ms/step\n",
            "Epoch 34/700\n",
            "\n",
            "Epoch 34: val_loss improved from 0.09942 to 0.09082, saving model to best_model_N2_r1.h5\n",
            "54/54 - 1s - loss: 0.8298 - mean_absolute_error: 0.7155 - mean_squared_error: 0.8298 - val_loss: 0.0908 - val_mean_absolute_error: 0.2548 - val_mean_squared_error: 0.0908 - 1s/epoch - 21ms/step\n",
            "Epoch 35/700\n",
            "\n",
            "Epoch 35: val_loss improved from 0.09082 to 0.08819, saving model to best_model_N2_r1.h5\n",
            "54/54 - 1s - loss: 0.8299 - mean_absolute_error: 0.7133 - mean_squared_error: 0.8299 - val_loss: 0.0882 - val_mean_absolute_error: 0.2515 - val_mean_squared_error: 0.0882 - 1s/epoch - 21ms/step\n",
            "Epoch 36/700\n",
            "\n",
            "Epoch 36: val_loss improved from 0.08819 to 0.08271, saving model to best_model_N2_r1.h5\n",
            "54/54 - 1s - loss: 0.7609 - mean_absolute_error: 0.6808 - mean_squared_error: 0.7609 - val_loss: 0.0827 - val_mean_absolute_error: 0.2435 - val_mean_squared_error: 0.0827 - 1s/epoch - 22ms/step\n",
            "Epoch 37/700\n",
            "\n",
            "Epoch 37: val_loss improved from 0.08271 to 0.07584, saving model to best_model_N2_r1.h5\n",
            "54/54 - 2s - loss: 0.7435 - mean_absolute_error: 0.6819 - mean_squared_error: 0.7435 - val_loss: 0.0758 - val_mean_absolute_error: 0.2326 - val_mean_squared_error: 0.0758 - 2s/epoch - 39ms/step\n",
            "Epoch 38/700\n",
            "\n",
            "Epoch 38: val_loss improved from 0.07584 to 0.06948, saving model to best_model_N2_r1.h5\n",
            "54/54 - 2s - loss: 0.7247 - mean_absolute_error: 0.6666 - mean_squared_error: 0.7247 - val_loss: 0.0695 - val_mean_absolute_error: 0.2225 - val_mean_squared_error: 0.0695 - 2s/epoch - 46ms/step\n",
            "Epoch 39/700\n",
            "\n",
            "Epoch 39: val_loss improved from 0.06948 to 0.06403, saving model to best_model_N2_r1.h5\n",
            "54/54 - 2s - loss: 0.7050 - mean_absolute_error: 0.6578 - mean_squared_error: 0.7050 - val_loss: 0.0640 - val_mean_absolute_error: 0.2134 - val_mean_squared_error: 0.0640 - 2s/epoch - 42ms/step\n",
            "Epoch 40/700\n",
            "\n",
            "Epoch 40: val_loss improved from 0.06403 to 0.06129, saving model to best_model_N2_r1.h5\n",
            "54/54 - 2s - loss: 0.6972 - mean_absolute_error: 0.6523 - mean_squared_error: 0.6972 - val_loss: 0.0613 - val_mean_absolute_error: 0.2075 - val_mean_squared_error: 0.0613 - 2s/epoch - 38ms/step\n",
            "Epoch 41/700\n",
            "\n",
            "Epoch 41: val_loss improved from 0.06129 to 0.05651, saving model to best_model_N2_r1.h5\n",
            "54/54 - 1s - loss: 0.6700 - mean_absolute_error: 0.6396 - mean_squared_error: 0.6700 - val_loss: 0.0565 - val_mean_absolute_error: 0.1996 - val_mean_squared_error: 0.0565 - 1s/epoch - 22ms/step\n",
            "Epoch 42/700\n",
            "\n",
            "Epoch 42: val_loss improved from 0.05651 to 0.04949, saving model to best_model_N2_r1.h5\n",
            "54/54 - 1s - loss: 0.6444 - mean_absolute_error: 0.6260 - mean_squared_error: 0.6444 - val_loss: 0.0495 - val_mean_absolute_error: 0.1866 - val_mean_squared_error: 0.0495 - 1s/epoch - 22ms/step\n",
            "Epoch 43/700\n",
            "\n",
            "Epoch 43: val_loss improved from 0.04949 to 0.04330, saving model to best_model_N2_r1.h5\n",
            "54/54 - 1s - loss: 0.5815 - mean_absolute_error: 0.5972 - mean_squared_error: 0.5815 - val_loss: 0.0433 - val_mean_absolute_error: 0.1752 - val_mean_squared_error: 0.0433 - 1s/epoch - 22ms/step\n",
            "Epoch 44/700\n",
            "\n",
            "Epoch 44: val_loss improved from 0.04330 to 0.04088, saving model to best_model_N2_r1.h5\n",
            "54/54 - 1s - loss: 0.5869 - mean_absolute_error: 0.5982 - mean_squared_error: 0.5869 - val_loss: 0.0409 - val_mean_absolute_error: 0.1696 - val_mean_squared_error: 0.0409 - 1s/epoch - 22ms/step\n",
            "Epoch 45/700\n",
            "\n",
            "Epoch 45: val_loss improved from 0.04088 to 0.03708, saving model to best_model_N2_r1.h5\n",
            "54/54 - 1s - loss: 0.5685 - mean_absolute_error: 0.5878 - mean_squared_error: 0.5685 - val_loss: 0.0371 - val_mean_absolute_error: 0.1610 - val_mean_squared_error: 0.0371 - 1s/epoch - 24ms/step\n",
            "Epoch 46/700\n",
            "\n",
            "Epoch 46: val_loss improved from 0.03708 to 0.03393, saving model to best_model_N2_r1.h5\n",
            "54/54 - 1s - loss: 0.5469 - mean_absolute_error: 0.5799 - mean_squared_error: 0.5469 - val_loss: 0.0339 - val_mean_absolute_error: 0.1538 - val_mean_squared_error: 0.0339 - 1s/epoch - 21ms/step\n",
            "Epoch 47/700\n",
            "\n",
            "Epoch 47: val_loss improved from 0.03393 to 0.03132, saving model to best_model_N2_r1.h5\n",
            "54/54 - 1s - loss: 0.5345 - mean_absolute_error: 0.5667 - mean_squared_error: 0.5345 - val_loss: 0.0313 - val_mean_absolute_error: 0.1479 - val_mean_squared_error: 0.0313 - 1s/epoch - 21ms/step\n",
            "Epoch 48/700\n",
            "\n",
            "Epoch 48: val_loss improved from 0.03132 to 0.02937, saving model to best_model_N2_r1.h5\n",
            "54/54 - 1s - loss: 0.5093 - mean_absolute_error: 0.5566 - mean_squared_error: 0.5093 - val_loss: 0.0294 - val_mean_absolute_error: 0.1437 - val_mean_squared_error: 0.0294 - 1s/epoch - 21ms/step\n",
            "Epoch 49/700\n",
            "\n",
            "Epoch 49: val_loss improved from 0.02937 to 0.02619, saving model to best_model_N2_r1.h5\n",
            "54/54 - 2s - loss: 0.4950 - mean_absolute_error: 0.5466 - mean_squared_error: 0.4950 - val_loss: 0.0262 - val_mean_absolute_error: 0.1349 - val_mean_squared_error: 0.0262 - 2s/epoch - 30ms/step\n",
            "Epoch 50/700\n",
            "\n",
            "Epoch 50: val_loss improved from 0.02619 to 0.02449, saving model to best_model_N2_r1.h5\n",
            "54/54 - 1s - loss: 0.4539 - mean_absolute_error: 0.5274 - mean_squared_error: 0.4539 - val_loss: 0.0245 - val_mean_absolute_error: 0.1303 - val_mean_squared_error: 0.0245 - 1s/epoch - 24ms/step\n",
            "Epoch 51/700\n",
            "\n",
            "Epoch 51: val_loss improved from 0.02449 to 0.02341, saving model to best_model_N2_r1.h5\n",
            "54/54 - 1s - loss: 0.4530 - mean_absolute_error: 0.5235 - mean_squared_error: 0.4530 - val_loss: 0.0234 - val_mean_absolute_error: 0.1277 - val_mean_squared_error: 0.0234 - 1s/epoch - 21ms/step\n",
            "Epoch 52/700\n",
            "\n",
            "Epoch 52: val_loss improved from 0.02341 to 0.02194, saving model to best_model_N2_r1.h5\n",
            "54/54 - 1s - loss: 0.4528 - mean_absolute_error: 0.5237 - mean_squared_error: 0.4528 - val_loss: 0.0219 - val_mean_absolute_error: 0.1236 - val_mean_squared_error: 0.0219 - 1s/epoch - 21ms/step\n",
            "Epoch 53/700\n",
            "\n",
            "Epoch 53: val_loss improved from 0.02194 to 0.02019, saving model to best_model_N2_r1.h5\n",
            "54/54 - 1s - loss: 0.4353 - mean_absolute_error: 0.5096 - mean_squared_error: 0.4353 - val_loss: 0.0202 - val_mean_absolute_error: 0.1178 - val_mean_squared_error: 0.0202 - 1s/epoch - 21ms/step\n",
            "Epoch 54/700\n",
            "\n",
            "Epoch 54: val_loss improved from 0.02019 to 0.01844, saving model to best_model_N2_r1.h5\n",
            "54/54 - 1s - loss: 0.4264 - mean_absolute_error: 0.5077 - mean_squared_error: 0.4264 - val_loss: 0.0184 - val_mean_absolute_error: 0.1124 - val_mean_squared_error: 0.0184 - 1s/epoch - 22ms/step\n",
            "Epoch 55/700\n",
            "\n",
            "Epoch 55: val_loss improved from 0.01844 to 0.01728, saving model to best_model_N2_r1.h5\n",
            "54/54 - 1s - loss: 0.3886 - mean_absolute_error: 0.4868 - mean_squared_error: 0.3886 - val_loss: 0.0173 - val_mean_absolute_error: 0.1088 - val_mean_squared_error: 0.0173 - 1s/epoch - 24ms/step\n",
            "Epoch 56/700\n",
            "\n",
            "Epoch 56: val_loss improved from 0.01728 to 0.01703, saving model to best_model_N2_r1.h5\n",
            "54/54 - 1s - loss: 0.3876 - mean_absolute_error: 0.4829 - mean_squared_error: 0.3876 - val_loss: 0.0170 - val_mean_absolute_error: 0.1084 - val_mean_squared_error: 0.0170 - 1s/epoch - 21ms/step\n",
            "Epoch 57/700\n",
            "\n",
            "Epoch 57: val_loss improved from 0.01703 to 0.01551, saving model to best_model_N2_r1.h5\n",
            "54/54 - 1s - loss: 0.3669 - mean_absolute_error: 0.4696 - mean_squared_error: 0.3669 - val_loss: 0.0155 - val_mean_absolute_error: 0.1034 - val_mean_squared_error: 0.0155 - 1s/epoch - 22ms/step\n",
            "Epoch 58/700\n",
            "\n",
            "Epoch 58: val_loss improved from 0.01551 to 0.01454, saving model to best_model_N2_r1.h5\n",
            "54/54 - 1s - loss: 0.3561 - mean_absolute_error: 0.4650 - mean_squared_error: 0.3561 - val_loss: 0.0145 - val_mean_absolute_error: 0.1004 - val_mean_squared_error: 0.0145 - 1s/epoch - 21ms/step\n",
            "Epoch 59/700\n",
            "\n",
            "Epoch 59: val_loss did not improve from 0.01454\n",
            "54/54 - 1s - loss: 0.3503 - mean_absolute_error: 0.4591 - mean_squared_error: 0.3503 - val_loss: 0.0148 - val_mean_absolute_error: 0.1014 - val_mean_squared_error: 0.0148 - 1s/epoch - 20ms/step\n",
            "Epoch 60/700\n",
            "\n",
            "Epoch 60: val_loss improved from 0.01454 to 0.01421, saving model to best_model_N2_r1.h5\n",
            "54/54 - 1s - loss: 0.3412 - mean_absolute_error: 0.4513 - mean_squared_error: 0.3412 - val_loss: 0.0142 - val_mean_absolute_error: 0.0994 - val_mean_squared_error: 0.0142 - 1s/epoch - 24ms/step\n",
            "Epoch 61/700\n",
            "\n",
            "Epoch 61: val_loss improved from 0.01421 to 0.01269, saving model to best_model_N2_r1.h5\n",
            "54/54 - 1s - loss: 0.3161 - mean_absolute_error: 0.4376 - mean_squared_error: 0.3161 - val_loss: 0.0127 - val_mean_absolute_error: 0.0940 - val_mean_squared_error: 0.0127 - 1s/epoch - 21ms/step\n",
            "Epoch 62/700\n",
            "\n",
            "Epoch 62: val_loss improved from 0.01269 to 0.01122, saving model to best_model_N2_r1.h5\n",
            "54/54 - 1s - loss: 0.3181 - mean_absolute_error: 0.4410 - mean_squared_error: 0.3181 - val_loss: 0.0112 - val_mean_absolute_error: 0.0880 - val_mean_squared_error: 0.0112 - 1s/epoch - 21ms/step\n",
            "Epoch 63/700\n",
            "\n",
            "Epoch 63: val_loss improved from 0.01122 to 0.01068, saving model to best_model_N2_r1.h5\n",
            "54/54 - 1s - loss: 0.3010 - mean_absolute_error: 0.4274 - mean_squared_error: 0.3010 - val_loss: 0.0107 - val_mean_absolute_error: 0.0859 - val_mean_squared_error: 0.0107 - 1s/epoch - 21ms/step\n",
            "Epoch 64/700\n",
            "\n",
            "Epoch 64: val_loss improved from 0.01068 to 0.00955, saving model to best_model_N2_r1.h5\n",
            "54/54 - 1s - loss: 0.2868 - mean_absolute_error: 0.4132 - mean_squared_error: 0.2868 - val_loss: 0.0096 - val_mean_absolute_error: 0.0808 - val_mean_squared_error: 0.0096 - 1s/epoch - 21ms/step\n",
            "Epoch 65/700\n",
            "\n",
            "Epoch 65: val_loss improved from 0.00955 to 0.00867, saving model to best_model_N2_r1.h5\n",
            "54/54 - 1s - loss: 0.2915 - mean_absolute_error: 0.4189 - mean_squared_error: 0.2915 - val_loss: 0.0087 - val_mean_absolute_error: 0.0770 - val_mean_squared_error: 0.0087 - 1s/epoch - 21ms/step\n",
            "Epoch 66/700\n",
            "\n",
            "Epoch 66: val_loss improved from 0.00867 to 0.00837, saving model to best_model_N2_r1.h5\n",
            "54/54 - 1s - loss: 0.2744 - mean_absolute_error: 0.4069 - mean_squared_error: 0.2744 - val_loss: 0.0084 - val_mean_absolute_error: 0.0752 - val_mean_squared_error: 0.0084 - 1s/epoch - 24ms/step\n",
            "Epoch 67/700\n",
            "\n",
            "Epoch 67: val_loss did not improve from 0.00837\n",
            "54/54 - 1s - loss: 0.2618 - mean_absolute_error: 0.3975 - mean_squared_error: 0.2618 - val_loss: 0.0084 - val_mean_absolute_error: 0.0754 - val_mean_squared_error: 0.0084 - 1s/epoch - 20ms/step\n",
            "Epoch 68/700\n",
            "\n",
            "Epoch 68: val_loss improved from 0.00837 to 0.00767, saving model to best_model_N2_r1.h5\n",
            "54/54 - 1s - loss: 0.2459 - mean_absolute_error: 0.3864 - mean_squared_error: 0.2459 - val_loss: 0.0077 - val_mean_absolute_error: 0.0717 - val_mean_squared_error: 0.0077 - 1s/epoch - 21ms/step\n",
            "Epoch 69/700\n",
            "\n",
            "Epoch 69: val_loss improved from 0.00767 to 0.00730, saving model to best_model_N2_r1.h5\n",
            "54/54 - 1s - loss: 0.2437 - mean_absolute_error: 0.3823 - mean_squared_error: 0.2437 - val_loss: 0.0073 - val_mean_absolute_error: 0.0705 - val_mean_squared_error: 0.0073 - 1s/epoch - 21ms/step\n",
            "Epoch 70/700\n",
            "\n",
            "Epoch 70: val_loss improved from 0.00730 to 0.00719, saving model to best_model_N2_r1.h5\n",
            "54/54 - 1s - loss: 0.2421 - mean_absolute_error: 0.3807 - mean_squared_error: 0.2421 - val_loss: 0.0072 - val_mean_absolute_error: 0.0696 - val_mean_squared_error: 0.0072 - 1s/epoch - 21ms/step\n",
            "Epoch 71/700\n",
            "\n",
            "Epoch 71: val_loss improved from 0.00719 to 0.00692, saving model to best_model_N2_r1.h5\n",
            "54/54 - 1s - loss: 0.2358 - mean_absolute_error: 0.3717 - mean_squared_error: 0.2358 - val_loss: 0.0069 - val_mean_absolute_error: 0.0690 - val_mean_squared_error: 0.0069 - 1s/epoch - 21ms/step\n",
            "Epoch 72/700\n",
            "\n",
            "Epoch 72: val_loss improved from 0.00692 to 0.00620, saving model to best_model_N2_r1.h5\n",
            "54/54 - 1s - loss: 0.2221 - mean_absolute_error: 0.3645 - mean_squared_error: 0.2221 - val_loss: 0.0062 - val_mean_absolute_error: 0.0657 - val_mean_squared_error: 0.0062 - 1s/epoch - 24ms/step\n",
            "Epoch 73/700\n",
            "\n",
            "Epoch 73: val_loss improved from 0.00620 to 0.00591, saving model to best_model_N2_r1.h5\n",
            "54/54 - 1s - loss: 0.2196 - mean_absolute_error: 0.3599 - mean_squared_error: 0.2196 - val_loss: 0.0059 - val_mean_absolute_error: 0.0643 - val_mean_squared_error: 0.0059 - 1s/epoch - 22ms/step\n",
            "Epoch 74/700\n",
            "\n",
            "Epoch 74: val_loss improved from 0.00591 to 0.00573, saving model to best_model_N2_r1.h5\n",
            "54/54 - 1s - loss: 0.2016 - mean_absolute_error: 0.3472 - mean_squared_error: 0.2016 - val_loss: 0.0057 - val_mean_absolute_error: 0.0634 - val_mean_squared_error: 0.0057 - 1s/epoch - 21ms/step\n",
            "Epoch 75/700\n",
            "\n",
            "Epoch 75: val_loss improved from 0.00573 to 0.00550, saving model to best_model_N2_r1.h5\n",
            "54/54 - 1s - loss: 0.1985 - mean_absolute_error: 0.3448 - mean_squared_error: 0.1985 - val_loss: 0.0055 - val_mean_absolute_error: 0.0623 - val_mean_squared_error: 0.0055 - 1s/epoch - 22ms/step\n",
            "Epoch 76/700\n",
            "\n",
            "Epoch 76: val_loss did not improve from 0.00550\n",
            "54/54 - 1s - loss: 0.1892 - mean_absolute_error: 0.3363 - mean_squared_error: 0.1892 - val_loss: 0.0055 - val_mean_absolute_error: 0.0626 - val_mean_squared_error: 0.0055 - 1s/epoch - 20ms/step\n",
            "Epoch 77/700\n",
            "\n",
            "Epoch 77: val_loss improved from 0.00550 to 0.00509, saving model to best_model_N2_r1.h5\n",
            "54/54 - 1s - loss: 0.1836 - mean_absolute_error: 0.3315 - mean_squared_error: 0.1836 - val_loss: 0.0051 - val_mean_absolute_error: 0.0589 - val_mean_squared_error: 0.0051 - 1s/epoch - 26ms/step\n",
            "Epoch 78/700\n",
            "\n",
            "Epoch 78: val_loss improved from 0.00509 to 0.00469, saving model to best_model_N2_r1.h5\n",
            "54/54 - 1s - loss: 0.1822 - mean_absolute_error: 0.3303 - mean_squared_error: 0.1822 - val_loss: 0.0047 - val_mean_absolute_error: 0.0556 - val_mean_squared_error: 0.0047 - 1s/epoch - 21ms/step\n",
            "Epoch 79/700\n",
            "\n",
            "Epoch 79: val_loss improved from 0.00469 to 0.00414, saving model to best_model_N2_r1.h5\n",
            "54/54 - 1s - loss: 0.1730 - mean_absolute_error: 0.3220 - mean_squared_error: 0.1730 - val_loss: 0.0041 - val_mean_absolute_error: 0.0518 - val_mean_squared_error: 0.0041 - 1s/epoch - 21ms/step\n",
            "Epoch 80/700\n",
            "\n",
            "Epoch 80: val_loss improved from 0.00414 to 0.00397, saving model to best_model_N2_r1.h5\n",
            "54/54 - 1s - loss: 0.1647 - mean_absolute_error: 0.3107 - mean_squared_error: 0.1647 - val_loss: 0.0040 - val_mean_absolute_error: 0.0500 - val_mean_squared_error: 0.0040 - 1s/epoch - 21ms/step\n",
            "Epoch 81/700\n",
            "\n",
            "Epoch 81: val_loss improved from 0.00397 to 0.00373, saving model to best_model_N2_r1.h5\n",
            "54/54 - 1s - loss: 0.1604 - mean_absolute_error: 0.3087 - mean_squared_error: 0.1604 - val_loss: 0.0037 - val_mean_absolute_error: 0.0478 - val_mean_squared_error: 0.0037 - 1s/epoch - 22ms/step\n",
            "Epoch 82/700\n",
            "\n",
            "Epoch 82: val_loss improved from 0.00373 to 0.00345, saving model to best_model_N2_r1.h5\n",
            "54/54 - 1s - loss: 0.1490 - mean_absolute_error: 0.2975 - mean_squared_error: 0.1490 - val_loss: 0.0034 - val_mean_absolute_error: 0.0465 - val_mean_squared_error: 0.0034 - 1s/epoch - 22ms/step\n",
            "Epoch 83/700\n",
            "\n",
            "Epoch 83: val_loss improved from 0.00345 to 0.00329, saving model to best_model_N2_r1.h5\n",
            "54/54 - 1s - loss: 0.1493 - mean_absolute_error: 0.2955 - mean_squared_error: 0.1493 - val_loss: 0.0033 - val_mean_absolute_error: 0.0453 - val_mean_squared_error: 0.0033 - 1s/epoch - 24ms/step\n",
            "Epoch 84/700\n",
            "\n",
            "Epoch 84: val_loss did not improve from 0.00329\n",
            "54/54 - 1s - loss: 0.1465 - mean_absolute_error: 0.2918 - mean_squared_error: 0.1465 - val_loss: 0.0036 - val_mean_absolute_error: 0.0473 - val_mean_squared_error: 0.0036 - 1s/epoch - 20ms/step\n",
            "Epoch 85/700\n",
            "\n",
            "Epoch 85: val_loss did not improve from 0.00329\n",
            "54/54 - 1s - loss: 0.1386 - mean_absolute_error: 0.2853 - mean_squared_error: 0.1386 - val_loss: 0.0034 - val_mean_absolute_error: 0.0455 - val_mean_squared_error: 0.0034 - 1s/epoch - 20ms/step\n",
            "Epoch 86/700\n",
            "\n",
            "Epoch 86: val_loss did not improve from 0.00329\n",
            "54/54 - 1s - loss: 0.1340 - mean_absolute_error: 0.2819 - mean_squared_error: 0.1340 - val_loss: 0.0037 - val_mean_absolute_error: 0.0475 - val_mean_squared_error: 0.0037 - 1s/epoch - 20ms/step\n",
            "Epoch 87/700\n",
            "\n",
            "Epoch 87: val_loss did not improve from 0.00329\n",
            "54/54 - 1s - loss: 0.1312 - mean_absolute_error: 0.2785 - mean_squared_error: 0.1312 - val_loss: 0.0033 - val_mean_absolute_error: 0.0453 - val_mean_squared_error: 0.0033 - 1s/epoch - 20ms/step\n",
            "Epoch 88/700\n",
            "\n",
            "Epoch 88: val_loss improved from 0.00329 to 0.00317, saving model to best_model_N2_r1.h5\n",
            "54/54 - 1s - loss: 0.1239 - mean_absolute_error: 0.2707 - mean_squared_error: 0.1239 - val_loss: 0.0032 - val_mean_absolute_error: 0.0446 - val_mean_squared_error: 0.0032 - 1s/epoch - 22ms/step\n",
            "Epoch 89/700\n",
            "\n",
            "Epoch 89: val_loss did not improve from 0.00317\n",
            "54/54 - 1s - loss: 0.1254 - mean_absolute_error: 0.2703 - mean_squared_error: 0.1254 - val_loss: 0.0032 - val_mean_absolute_error: 0.0445 - val_mean_squared_error: 0.0032 - 1s/epoch - 23ms/step\n",
            "Epoch 90/700\n",
            "\n",
            "Epoch 90: val_loss improved from 0.00317 to 0.00307, saving model to best_model_N2_r1.h5\n",
            "54/54 - 1s - loss: 0.1156 - mean_absolute_error: 0.2595 - mean_squared_error: 0.1156 - val_loss: 0.0031 - val_mean_absolute_error: 0.0438 - val_mean_squared_error: 0.0031 - 1s/epoch - 22ms/step\n",
            "Epoch 91/700\n",
            "\n",
            "Epoch 91: val_loss improved from 0.00307 to 0.00305, saving model to best_model_N2_r1.h5\n",
            "54/54 - 2s - loss: 0.1141 - mean_absolute_error: 0.2573 - mean_squared_error: 0.1141 - val_loss: 0.0031 - val_mean_absolute_error: 0.0437 - val_mean_squared_error: 0.0031 - 2s/epoch - 30ms/step\n",
            "Epoch 92/700\n",
            "\n",
            "Epoch 92: val_loss improved from 0.00305 to 0.00275, saving model to best_model_N2_r1.h5\n",
            "54/54 - 2s - loss: 0.1100 - mean_absolute_error: 0.2524 - mean_squared_error: 0.1100 - val_loss: 0.0028 - val_mean_absolute_error: 0.0423 - val_mean_squared_error: 0.0028 - 2s/epoch - 30ms/step\n",
            "Epoch 93/700\n",
            "\n",
            "Epoch 93: val_loss improved from 0.00275 to 0.00264, saving model to best_model_N2_r1.h5\n",
            "54/54 - 1s - loss: 0.1030 - mean_absolute_error: 0.2452 - mean_squared_error: 0.1030 - val_loss: 0.0026 - val_mean_absolute_error: 0.0408 - val_mean_squared_error: 0.0026 - 1s/epoch - 25ms/step\n",
            "Epoch 94/700\n",
            "\n",
            "Epoch 94: val_loss improved from 0.00264 to 0.00254, saving model to best_model_N2_r1.h5\n",
            "54/54 - 1s - loss: 0.0972 - mean_absolute_error: 0.2383 - mean_squared_error: 0.0972 - val_loss: 0.0025 - val_mean_absolute_error: 0.0403 - val_mean_squared_error: 0.0025 - 1s/epoch - 21ms/step\n",
            "Epoch 95/700\n",
            "\n",
            "Epoch 95: val_loss improved from 0.00254 to 0.00239, saving model to best_model_N2_r1.h5\n",
            "54/54 - 1s - loss: 0.1000 - mean_absolute_error: 0.2413 - mean_squared_error: 0.1000 - val_loss: 0.0024 - val_mean_absolute_error: 0.0395 - val_mean_squared_error: 0.0024 - 1s/epoch - 21ms/step\n",
            "Epoch 96/700\n",
            "\n",
            "Epoch 96: val_loss improved from 0.00239 to 0.00237, saving model to best_model_N2_r1.h5\n",
            "54/54 - 1s - loss: 0.0928 - mean_absolute_error: 0.2298 - mean_squared_error: 0.0928 - val_loss: 0.0024 - val_mean_absolute_error: 0.0394 - val_mean_squared_error: 0.0024 - 1s/epoch - 22ms/step\n",
            "Epoch 97/700\n",
            "\n",
            "Epoch 97: val_loss improved from 0.00237 to 0.00231, saving model to best_model_N2_r1.h5\n",
            "54/54 - 1s - loss: 0.0868 - mean_absolute_error: 0.2250 - mean_squared_error: 0.0868 - val_loss: 0.0023 - val_mean_absolute_error: 0.0390 - val_mean_squared_error: 0.0023 - 1s/epoch - 21ms/step\n",
            "Epoch 98/700\n",
            "\n",
            "Epoch 98: val_loss did not improve from 0.00231\n",
            "54/54 - 1s - loss: 0.0826 - mean_absolute_error: 0.2186 - mean_squared_error: 0.0826 - val_loss: 0.0024 - val_mean_absolute_error: 0.0396 - val_mean_squared_error: 0.0024 - 1s/epoch - 20ms/step\n",
            "Epoch 99/700\n",
            "\n",
            "Epoch 99: val_loss improved from 0.00231 to 0.00213, saving model to best_model_N2_r1.h5\n",
            "54/54 - 1s - loss: 0.0853 - mean_absolute_error: 0.2216 - mean_squared_error: 0.0853 - val_loss: 0.0021 - val_mean_absolute_error: 0.0377 - val_mean_squared_error: 0.0021 - 1s/epoch - 25ms/step\n",
            "Epoch 100/700\n",
            "\n",
            "Epoch 100: val_loss improved from 0.00213 to 0.00170, saving model to best_model_N2_r1.h5\n",
            "54/54 - 1s - loss: 0.0801 - mean_absolute_error: 0.2162 - mean_squared_error: 0.0801 - val_loss: 0.0017 - val_mean_absolute_error: 0.0329 - val_mean_squared_error: 0.0017 - 1s/epoch - 21ms/step\n",
            "Epoch 101/700\n",
            "\n",
            "Epoch 101: val_loss improved from 0.00170 to 0.00163, saving model to best_model_N2_r1.h5\n",
            "54/54 - 1s - loss: 0.0754 - mean_absolute_error: 0.2085 - mean_squared_error: 0.0754 - val_loss: 0.0016 - val_mean_absolute_error: 0.0330 - val_mean_squared_error: 0.0016 - 1s/epoch - 22ms/step\n",
            "Epoch 102/700\n",
            "\n",
            "Epoch 102: val_loss did not improve from 0.00163\n",
            "54/54 - 1s - loss: 0.0735 - mean_absolute_error: 0.2041 - mean_squared_error: 0.0735 - val_loss: 0.0018 - val_mean_absolute_error: 0.0335 - val_mean_squared_error: 0.0018 - 1s/epoch - 20ms/step\n",
            "Epoch 103/700\n",
            "\n",
            "Epoch 103: val_loss improved from 0.00163 to 0.00159, saving model to best_model_N2_r1.h5\n",
            "54/54 - 1s - loss: 0.0680 - mean_absolute_error: 0.1986 - mean_squared_error: 0.0680 - val_loss: 0.0016 - val_mean_absolute_error: 0.0315 - val_mean_squared_error: 0.0016 - 1s/epoch - 22ms/step\n",
            "Epoch 104/700\n",
            "\n",
            "Epoch 104: val_loss did not improve from 0.00159\n",
            "54/54 - 1s - loss: 0.0660 - mean_absolute_error: 0.1939 - mean_squared_error: 0.0660 - val_loss: 0.0016 - val_mean_absolute_error: 0.0320 - val_mean_squared_error: 0.0016 - 1s/epoch - 20ms/step\n",
            "Epoch 105/700\n",
            "\n",
            "Epoch 105: val_loss did not improve from 0.00159\n",
            "54/54 - 2s - loss: 0.0637 - mean_absolute_error: 0.1897 - mean_squared_error: 0.0637 - val_loss: 0.0017 - val_mean_absolute_error: 0.0324 - val_mean_squared_error: 0.0017 - 2s/epoch - 30ms/step\n",
            "Epoch 106/700\n",
            "\n",
            "Epoch 106: val_loss did not improve from 0.00159\n",
            "54/54 - 2s - loss: 0.0641 - mean_absolute_error: 0.1901 - mean_squared_error: 0.0641 - val_loss: 0.0017 - val_mean_absolute_error: 0.0330 - val_mean_squared_error: 0.0017 - 2s/epoch - 37ms/step\n",
            "Epoch 107/700\n",
            "\n",
            "Epoch 107: val_loss improved from 0.00159 to 0.00151, saving model to best_model_N2_r1.h5\n",
            "54/54 - 2s - loss: 0.0612 - mean_absolute_error: 0.1877 - mean_squared_error: 0.0612 - val_loss: 0.0015 - val_mean_absolute_error: 0.0314 - val_mean_squared_error: 0.0015 - 2s/epoch - 45ms/step\n",
            "Epoch 108/700\n",
            "\n",
            "Epoch 108: val_loss improved from 0.00151 to 0.00137, saving model to best_model_N2_r1.h5\n",
            "54/54 - 2s - loss: 0.0603 - mean_absolute_error: 0.1845 - mean_squared_error: 0.0603 - val_loss: 0.0014 - val_mean_absolute_error: 0.0292 - val_mean_squared_error: 0.0014 - 2s/epoch - 46ms/step\n",
            "Epoch 109/700\n",
            "\n",
            "Epoch 109: val_loss did not improve from 0.00137\n",
            "54/54 - 2s - loss: 0.0571 - mean_absolute_error: 0.1799 - mean_squared_error: 0.0571 - val_loss: 0.0014 - val_mean_absolute_error: 0.0288 - val_mean_squared_error: 0.0014 - 2s/epoch - 40ms/step\n",
            "Epoch 110/700\n",
            "\n",
            "Epoch 110: val_loss improved from 0.00137 to 0.00128, saving model to best_model_N2_r1.h5\n",
            "54/54 - 2s - loss: 0.0550 - mean_absolute_error: 0.1755 - mean_squared_error: 0.0550 - val_loss: 0.0013 - val_mean_absolute_error: 0.0278 - val_mean_squared_error: 0.0013 - 2s/epoch - 29ms/step\n",
            "Epoch 111/700\n",
            "\n",
            "Epoch 111: val_loss did not improve from 0.00128\n",
            "54/54 - 1s - loss: 0.0535 - mean_absolute_error: 0.1727 - mean_squared_error: 0.0535 - val_loss: 0.0014 - val_mean_absolute_error: 0.0297 - val_mean_squared_error: 0.0014 - 1s/epoch - 20ms/step\n",
            "Epoch 112/700\n",
            "\n",
            "Epoch 112: val_loss did not improve from 0.00128\n",
            "54/54 - 1s - loss: 0.0509 - mean_absolute_error: 0.1692 - mean_squared_error: 0.0509 - val_loss: 0.0013 - val_mean_absolute_error: 0.0288 - val_mean_squared_error: 0.0013 - 1s/epoch - 23ms/step\n",
            "Epoch 113/700\n",
            "\n",
            "Epoch 113: val_loss improved from 0.00128 to 0.00128, saving model to best_model_N2_r1.h5\n",
            "54/54 - 1s - loss: 0.0443 - mean_absolute_error: 0.1589 - mean_squared_error: 0.0443 - val_loss: 0.0013 - val_mean_absolute_error: 0.0273 - val_mean_squared_error: 0.0013 - 1s/epoch - 21ms/step\n",
            "Epoch 114/700\n",
            "\n",
            "Epoch 114: val_loss improved from 0.00128 to 0.00124, saving model to best_model_N2_r1.h5\n",
            "54/54 - 1s - loss: 0.0465 - mean_absolute_error: 0.1606 - mean_squared_error: 0.0465 - val_loss: 0.0012 - val_mean_absolute_error: 0.0278 - val_mean_squared_error: 0.0012 - 1s/epoch - 22ms/step\n",
            "Epoch 115/700\n",
            "\n",
            "Epoch 115: val_loss did not improve from 0.00124\n",
            "54/54 - 1s - loss: 0.0438 - mean_absolute_error: 0.1568 - mean_squared_error: 0.0438 - val_loss: 0.0015 - val_mean_absolute_error: 0.0306 - val_mean_squared_error: 0.0015 - 1s/epoch - 20ms/step\n",
            "Epoch 116/700\n",
            "\n",
            "Epoch 116: val_loss did not improve from 0.00124\n",
            "54/54 - 1s - loss: 0.0414 - mean_absolute_error: 0.1514 - mean_squared_error: 0.0414 - val_loss: 0.0016 - val_mean_absolute_error: 0.0308 - val_mean_squared_error: 0.0016 - 1s/epoch - 20ms/step\n",
            "Epoch 117/700\n",
            "\n",
            "Epoch 117: val_loss did not improve from 0.00124\n",
            "54/54 - 1s - loss: 0.0410 - mean_absolute_error: 0.1496 - mean_squared_error: 0.0410 - val_loss: 0.0013 - val_mean_absolute_error: 0.0265 - val_mean_squared_error: 0.0013 - 1s/epoch - 20ms/step\n",
            "Epoch 118/700\n",
            "\n",
            "Epoch 118: val_loss improved from 0.00124 to 0.00124, saving model to best_model_N2_r1.h5\n",
            "54/54 - 1s - loss: 0.0386 - mean_absolute_error: 0.1442 - mean_squared_error: 0.0386 - val_loss: 0.0012 - val_mean_absolute_error: 0.0262 - val_mean_squared_error: 0.0012 - 1s/epoch - 25ms/step\n",
            "Epoch 119/700\n",
            "\n",
            "Epoch 119: val_loss improved from 0.00124 to 0.00100, saving model to best_model_N2_r1.h5\n",
            "54/54 - 1s - loss: 0.0390 - mean_absolute_error: 0.1448 - mean_squared_error: 0.0390 - val_loss: 9.9879e-04 - val_mean_absolute_error: 0.0234 - val_mean_squared_error: 9.9879e-04 - 1s/epoch - 21ms/step\n",
            "Epoch 120/700\n",
            "\n",
            "Epoch 120: val_loss did not improve from 0.00100\n",
            "54/54 - 1s - loss: 0.0349 - mean_absolute_error: 0.1393 - mean_squared_error: 0.0349 - val_loss: 0.0011 - val_mean_absolute_error: 0.0243 - val_mean_squared_error: 0.0011 - 1s/epoch - 20ms/step\n",
            "Epoch 121/700\n",
            "\n",
            "Epoch 121: val_loss did not improve from 0.00100\n",
            "54/54 - 1s - loss: 0.0389 - mean_absolute_error: 0.1429 - mean_squared_error: 0.0389 - val_loss: 0.0012 - val_mean_absolute_error: 0.0257 - val_mean_squared_error: 0.0012 - 1s/epoch - 20ms/step\n",
            "Epoch 122/700\n",
            "\n",
            "Epoch 122: val_loss did not improve from 0.00100\n",
            "54/54 - 1s - loss: 0.0348 - mean_absolute_error: 0.1353 - mean_squared_error: 0.0348 - val_loss: 0.0010 - val_mean_absolute_error: 0.0243 - val_mean_squared_error: 0.0010 - 1s/epoch - 20ms/step\n",
            "Epoch 123/700\n",
            "\n",
            "Epoch 123: val_loss improved from 0.00100 to 0.00093, saving model to best_model_N2_r1.h5\n",
            "54/54 - 1s - loss: 0.0316 - mean_absolute_error: 0.1310 - mean_squared_error: 0.0316 - val_loss: 9.3062e-04 - val_mean_absolute_error: 0.0224 - val_mean_squared_error: 9.3062e-04 - 1s/epoch - 22ms/step\n",
            "Epoch 124/700\n",
            "\n",
            "Epoch 124: val_loss did not improve from 0.00093\n",
            "54/54 - 1s - loss: 0.0307 - mean_absolute_error: 0.1281 - mean_squared_error: 0.0307 - val_loss: 9.4147e-04 - val_mean_absolute_error: 0.0235 - val_mean_squared_error: 9.4147e-04 - 1s/epoch - 23ms/step\n",
            "Epoch 125/700\n",
            "\n",
            "Epoch 125: val_loss did not improve from 0.00093\n",
            "54/54 - 1s - loss: 0.0300 - mean_absolute_error: 0.1258 - mean_squared_error: 0.0300 - val_loss: 9.3280e-04 - val_mean_absolute_error: 0.0236 - val_mean_squared_error: 9.3280e-04 - 1s/epoch - 20ms/step\n",
            "Epoch 126/700\n",
            "\n",
            "Epoch 126: val_loss improved from 0.00093 to 0.00075, saving model to best_model_N2_r1.h5\n",
            "54/54 - 1s - loss: 0.0275 - mean_absolute_error: 0.1209 - mean_squared_error: 0.0275 - val_loss: 7.4591e-04 - val_mean_absolute_error: 0.0210 - val_mean_squared_error: 7.4591e-04 - 1s/epoch - 22ms/step\n",
            "Epoch 127/700\n",
            "\n",
            "Epoch 127: val_loss did not improve from 0.00075\n",
            "54/54 - 1s - loss: 0.0293 - mean_absolute_error: 0.1254 - mean_squared_error: 0.0293 - val_loss: 7.8892e-04 - val_mean_absolute_error: 0.0214 - val_mean_squared_error: 7.8892e-04 - 1s/epoch - 20ms/step\n",
            "Epoch 128/700\n",
            "\n",
            "Epoch 128: val_loss improved from 0.00075 to 0.00071, saving model to best_model_N2_r1.h5\n",
            "54/54 - 1s - loss: 0.0294 - mean_absolute_error: 0.1232 - mean_squared_error: 0.0294 - val_loss: 7.0673e-04 - val_mean_absolute_error: 0.0205 - val_mean_squared_error: 7.0673e-04 - 1s/epoch - 21ms/step\n",
            "Epoch 129/700\n",
            "\n",
            "Epoch 129: val_loss improved from 0.00071 to 0.00060, saving model to best_model_N2_r1.h5\n",
            "54/54 - 1s - loss: 0.0285 - mean_absolute_error: 0.1215 - mean_squared_error: 0.0285 - val_loss: 6.0297e-04 - val_mean_absolute_error: 0.0188 - val_mean_squared_error: 6.0297e-04 - 1s/epoch - 22ms/step\n",
            "Epoch 130/700\n",
            "\n",
            "Epoch 130: val_loss did not improve from 0.00060\n",
            "54/54 - 1s - loss: 0.0265 - mean_absolute_error: 0.1174 - mean_squared_error: 0.0265 - val_loss: 8.3072e-04 - val_mean_absolute_error: 0.0224 - val_mean_squared_error: 8.3072e-04 - 1s/epoch - 23ms/step\n",
            "Epoch 131/700\n",
            "\n",
            "Epoch 131: val_loss did not improve from 0.00060\n",
            "54/54 - 1s - loss: 0.0263 - mean_absolute_error: 0.1156 - mean_squared_error: 0.0263 - val_loss: 6.2825e-04 - val_mean_absolute_error: 0.0187 - val_mean_squared_error: 6.2825e-04 - 1s/epoch - 20ms/step\n",
            "Epoch 132/700\n",
            "\n",
            "Epoch 132: val_loss did not improve from 0.00060\n",
            "54/54 - 1s - loss: 0.0236 - mean_absolute_error: 0.1101 - mean_squared_error: 0.0236 - val_loss: 7.3292e-04 - val_mean_absolute_error: 0.0211 - val_mean_squared_error: 7.3292e-04 - 1s/epoch - 20ms/step\n",
            "Epoch 133/700\n",
            "\n",
            "Epoch 133: val_loss did not improve from 0.00060\n",
            "54/54 - 1s - loss: 0.0233 - mean_absolute_error: 0.1093 - mean_squared_error: 0.0233 - val_loss: 8.2869e-04 - val_mean_absolute_error: 0.0218 - val_mean_squared_error: 8.2869e-04 - 1s/epoch - 20ms/step\n",
            "Epoch 134/700\n",
            "\n",
            "Epoch 134: val_loss did not improve from 0.00060\n",
            "54/54 - 1s - loss: 0.0221 - mean_absolute_error: 0.1060 - mean_squared_error: 0.0221 - val_loss: 7.9949e-04 - val_mean_absolute_error: 0.0211 - val_mean_squared_error: 7.9949e-04 - 1s/epoch - 20ms/step\n",
            "Epoch 135/700\n",
            "\n",
            "Epoch 135: val_loss did not improve from 0.00060\n",
            "54/54 - 1s - loss: 0.0231 - mean_absolute_error: 0.1073 - mean_squared_error: 0.0231 - val_loss: 7.3759e-04 - val_mean_absolute_error: 0.0202 - val_mean_squared_error: 7.3759e-04 - 1s/epoch - 20ms/step\n",
            "Epoch 136/700\n",
            "\n",
            "Epoch 136: val_loss improved from 0.00060 to 0.00048, saving model to best_model_N2_r1.h5\n",
            "54/54 - 1s - loss: 0.0215 - mean_absolute_error: 0.1031 - mean_squared_error: 0.0215 - val_loss: 4.7884e-04 - val_mean_absolute_error: 0.0157 - val_mean_squared_error: 4.7884e-04 - 1s/epoch - 22ms/step\n",
            "Epoch 137/700\n",
            "\n",
            "Epoch 137: val_loss improved from 0.00048 to 0.00048, saving model to best_model_N2_r1.h5\n",
            "54/54 - 1s - loss: 0.0205 - mean_absolute_error: 0.1012 - mean_squared_error: 0.0205 - val_loss: 4.7671e-04 - val_mean_absolute_error: 0.0154 - val_mean_squared_error: 4.7671e-04 - 1s/epoch - 25ms/step\n",
            "Epoch 138/700\n",
            "\n",
            "Epoch 138: val_loss improved from 0.00048 to 0.00037, saving model to best_model_N2_r1.h5\n",
            "54/54 - 1s - loss: 0.0199 - mean_absolute_error: 0.1000 - mean_squared_error: 0.0199 - val_loss: 3.7433e-04 - val_mean_absolute_error: 0.0135 - val_mean_squared_error: 3.7433e-04 - 1s/epoch - 22ms/step\n",
            "Epoch 139/700\n",
            "\n",
            "Epoch 139: val_loss did not improve from 0.00037\n",
            "54/54 - 1s - loss: 0.0198 - mean_absolute_error: 0.1003 - mean_squared_error: 0.0198 - val_loss: 3.9627e-04 - val_mean_absolute_error: 0.0148 - val_mean_squared_error: 3.9627e-04 - 1s/epoch - 21ms/step\n",
            "Epoch 140/700\n",
            "\n",
            "Epoch 140: val_loss did not improve from 0.00037\n",
            "54/54 - 1s - loss: 0.0192 - mean_absolute_error: 0.0978 - mean_squared_error: 0.0192 - val_loss: 5.3373e-04 - val_mean_absolute_error: 0.0172 - val_mean_squared_error: 5.3373e-04 - 1s/epoch - 21ms/step\n",
            "Epoch 141/700\n",
            "\n",
            "Epoch 141: val_loss did not improve from 0.00037\n",
            "54/54 - 1s - loss: 0.0188 - mean_absolute_error: 0.0963 - mean_squared_error: 0.0188 - val_loss: 5.5754e-04 - val_mean_absolute_error: 0.0179 - val_mean_squared_error: 5.5754e-04 - 1s/epoch - 20ms/step\n",
            "Epoch 142/700\n",
            "\n",
            "Epoch 142: val_loss did not improve from 0.00037\n",
            "54/54 - 1s - loss: 0.0169 - mean_absolute_error: 0.0919 - mean_squared_error: 0.0169 - val_loss: 7.6327e-04 - val_mean_absolute_error: 0.0213 - val_mean_squared_error: 7.6327e-04 - 1s/epoch - 21ms/step\n",
            "Epoch 143/700\n",
            "\n",
            "Epoch 143: val_loss did not improve from 0.00037\n",
            "54/54 - 1s - loss: 0.0192 - mean_absolute_error: 0.0953 - mean_squared_error: 0.0192 - val_loss: 9.1652e-04 - val_mean_absolute_error: 0.0232 - val_mean_squared_error: 9.1652e-04 - 1s/epoch - 23ms/step\n",
            "Epoch 144/700\n",
            "\n",
            "Epoch 144: val_loss did not improve from 0.00037\n",
            "54/54 - 1s - loss: 0.0167 - mean_absolute_error: 0.0905 - mean_squared_error: 0.0167 - val_loss: 6.7324e-04 - val_mean_absolute_error: 0.0193 - val_mean_squared_error: 6.7324e-04 - 1s/epoch - 20ms/step\n",
            "Epoch 145/700\n",
            "\n",
            "Epoch 145: val_loss did not improve from 0.00037\n",
            "54/54 - 1s - loss: 0.0165 - mean_absolute_error: 0.0912 - mean_squared_error: 0.0165 - val_loss: 4.4174e-04 - val_mean_absolute_error: 0.0147 - val_mean_squared_error: 4.4174e-04 - 1s/epoch - 20ms/step\n",
            "Epoch 146/700\n",
            "\n",
            "Epoch 146: val_loss did not improve from 0.00037\n",
            "54/54 - 1s - loss: 0.0157 - mean_absolute_error: 0.0891 - mean_squared_error: 0.0157 - val_loss: 4.3516e-04 - val_mean_absolute_error: 0.0148 - val_mean_squared_error: 4.3516e-04 - 1s/epoch - 20ms/step\n",
            "Epoch 147/700\n",
            "\n",
            "Epoch 147: val_loss did not improve from 0.00037\n",
            "54/54 - 1s - loss: 0.0166 - mean_absolute_error: 0.0901 - mean_squared_error: 0.0166 - val_loss: 4.0068e-04 - val_mean_absolute_error: 0.0144 - val_mean_squared_error: 4.0068e-04 - 1s/epoch - 20ms/step\n",
            "Epoch 148/700\n",
            "\n",
            "Epoch 148: val_loss did not improve from 0.00037\n",
            "54/54 - 1s - loss: 0.0147 - mean_absolute_error: 0.0850 - mean_squared_error: 0.0147 - val_loss: 3.9551e-04 - val_mean_absolute_error: 0.0144 - val_mean_squared_error: 3.9551e-04 - 1s/epoch - 20ms/step\n",
            "Epoch 148: early stopping\n"
          ]
        }
      ]
    },
    {
      "cell_type": "code",
      "source": [
        "plt.plot(history.history['loss'])\n",
        "plt.plot(history.history['val_loss'])\n",
        "plt.title('model loss')\n",
        "plt.ylabel('loss')\n",
        "plt.xlabel('epoch')\n",
        "plt.legend(['train', 'test'], loc='upper left')\n",
        "plt.show()"
      ],
      "metadata": {
        "colab": {
          "base_uri": "https://localhost:8080/",
          "height": 295
        },
        "id": "fjRf1QeBS_e8",
        "outputId": "d72eb212-af61-40b5-e4e5-94b9e2ee56e3"
      },
      "execution_count": 19,
      "outputs": [
        {
          "output_type": "display_data",
          "data": {
            "text/plain": [
              "<Figure size 432x288 with 1 Axes>"
            ],
            "image/png": "[encoded data removed]"
          },
          "metadata": {
            "needs_background": "light"
          }
        }
      ]
    },
    {
      "cell_type": "code",
      "source": [
        ""
      ],
      "metadata": {
        "id": "koU361E2Twos"
      },
      "execution_count": null,
      "outputs": []
    }
  ]
}